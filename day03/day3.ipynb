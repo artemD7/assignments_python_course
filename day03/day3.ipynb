{
 "cells": [
  {
   "cell_type": "code",
   "execution_count": 1,
   "id": "dd410019-4715-49db-8eb1-03820c4a1b77",
   "metadata": {},
   "outputs": [
    {
     "name": "stdin",
     "output_type": "stream",
     "text": [
      "Please enter the width 3\n",
      "Please enter the length 4\n"
     ]
    },
    {
     "name": "stdout",
     "output_type": "stream",
     "text": [
      "the width is 3.0\n",
      "the length is 4.0\n",
      "The rectangle area is 12.0\n",
      "The rectangle perimeter is 14.0\n"
     ]
    }
   ],
   "source": [
    "width = float(input('Please enter the width'))\n",
    "length = float(input('Please enter the length'))\n",
    "print('the width is', width)\n",
    "print('the length is', length)\n",
    "area = width * length\n",
    "print('The rectangle area is', area)\n",
    "perimeter = 2*(width + length)\n",
    "print('The rectangle perimeter is', perimeter)"
   ]
  },
  {
   "cell_type": "code",
   "execution_count": 2,
   "id": "21ed9670-d0dc-4ed3-a3b0-d4265fe7550f",
   "metadata": {},
   "outputs": [
    {
     "name": "stdin",
     "output_type": "stream",
     "text": [
      "Please enter the radius 5\n"
     ]
    },
    {
     "name": "stdout",
     "output_type": "stream",
     "text": [
      "the radius is 5.0\n",
      "The circle area is 78.5\n",
      "The circumference is 31.400000000000002\n"
     ]
    }
   ],
   "source": [
    "pi = 3.14\n",
    "radius = float(input('Please enter the radius'))\n",
    "print('the radius is', radius)\n",
    "circle_area=pi*radius**2\n",
    "print('The circle area is', circle_area)\n",
    "circumference = 2*pi*radius\n",
    "print('The circumference is', circumference)"
   ]
  }
 ],
 "metadata": {
  "kernelspec": {
   "display_name": "Python 3 (ipykernel)",
   "language": "python",
   "name": "python3"
  },
  "language_info": {
   "codemirror_mode": {
    "name": "ipython",
    "version": 3
   },
   "file_extension": ".py",
   "mimetype": "text/x-python",
   "name": "python",
   "nbconvert_exporter": "python",
   "pygments_lexer": "ipython3",
   "version": "3.13.0"
  }
 },
 "nbformat": 4,
 "nbformat_minor": 5
}
