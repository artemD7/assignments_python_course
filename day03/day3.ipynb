{
 "cells": [
  {
   "cell_type": "code",
   "execution_count": 3,
   "id": "dd410019-4715-49db-8eb1-03820c4a1b77",
   "metadata": {},
   "outputs": [
    {
     "name": "stdout",
     "output_type": "stream",
     "text": [
      "the width is 3.0\n",
      "the length is 4.0\n",
      "The rectangle area is 12.0\n",
      "The rectangle perimeter is 14.0\n"
     ]
    }
   ],
   "source": [
    "width = float(input('Please enter the width'))\n",
    "length = float(input('Please enter the length'))\n",
    "print(f'the width is {width:.1f}')\n",
    "print(f'the length is {length:.1f}')\n",
    "area = width * length\n",
    "print(f'The rectangle area is {area:.1f}')\n",
    "perimeter = 2*(width + length)\n",
    "print(f'The rectangle perimeter is {perimeter:.1f}')"
   ]
  },
  {
   "cell_type": "code",
   "execution_count": 4,
   "id": "21ed9670-d0dc-4ed3-a3b0-d4265fe7550f",
   "metadata": {},
   "outputs": [
    {
     "name": "stdout",
     "output_type": "stream",
     "text": [
      "the radius is 5.0\n",
      "The circle area is 78.5\n",
      "The circumference is 31.4\n"
     ]
    }
   ],
   "source": [
    "pi = 3.14\n",
    "radius = float(input('Please enter the radius'))\n",
    "print(f'the radius is {radius:.1f}')\n",
    "circle_area=pi*radius**2\n",
    "print(f'The circle area is {circle_area:.1f}')\n",
    "circumference = 2*pi*radius\n",
    "print(f'The circumference is {circumference:.1f}')"
   ]
  }
 ],
 "metadata": {
  "kernelspec": {
   "display_name": "Python 3",
   "language": "python",
   "name": "python3"
  },
  "language_info": {
   "codemirror_mode": {
    "name": "ipython",
    "version": 3
   },
   "file_extension": ".py",
   "mimetype": "text/x-python",
   "name": "python",
   "nbconvert_exporter": "python",
   "pygments_lexer": "ipython3",
   "version": "3.13.0"
  }
 },
 "nbformat": 4,
 "nbformat_minor": 5
}
