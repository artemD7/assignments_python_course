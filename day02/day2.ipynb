{
 "cells": [
  {
   "cell_type": "code",
   "execution_count": 1,
   "id": "7b23b585-202f-4bf2-87ab-d87ccf2f3fb3",
   "metadata": {
    "scrolled": true
   },
   "outputs": [
    {
     "name": "stdin",
     "output_type": "stream",
     "text": [
      "Please enter the width 2\n",
      "Please enter the length 4\n"
     ]
    },
    {
     "name": "stdout",
     "output_type": "stream",
     "text": [
      "The rectangle area is 8.0\n",
      "The rectangle perimeter is 16.0\n"
     ]
    }
   ],
   "source": [
    "width = float(input('Please enter the width'))\n",
    "length = float(input('Please enter the length'))\n",
    "area = width * length\n",
    "print('The rectangle area is', area)\n",
    "perimeter = 2*(width * length)\n",
    "print('The rectangle perimeter is', perimeter)"
   ]
  },
  {
   "cell_type": "code",
   "execution_count": 2,
   "id": "bbe7bfd4-3721-4025-9987-4e92547c51dd",
   "metadata": {},
   "outputs": [
    {
     "name": "stdin",
     "output_type": "stream",
     "text": [
      "Please enter the radius 3\n"
     ]
    },
    {
     "name": "stdout",
     "output_type": "stream",
     "text": [
      "The circle area is 28.26\n",
      "The circumference is 18.84\n"
     ]
    }
   ],
   "source": [
    "pi = 3.14\n",
    "radius = float(input('Please enter the radius'))\n",
    "circle_area=pi*radius**2\n",
    "print('The circle area is', circle_area)\n",
    "circumference = 2*pi*radius\n",
    "print('The circumference is', circumference)"
   ]
  },
  {
   "cell_type": "code",
   "execution_count": null,
   "id": "f02878df-564e-4808-a729-341fb075f7dd",
   "metadata": {},
   "outputs": [],
   "source": []
  },
  {
   "cell_type": "code",
   "execution_count": null,
   "id": "c5dbcc27-626d-47d3-bff3-d66975116190",
   "metadata": {},
   "outputs": [],
   "source": []
  }
 ],
 "metadata": {
  "kernelspec": {
   "display_name": "Python 3 (ipykernel)",
   "language": "python",
   "name": "python3"
  },
  "language_info": {
   "codemirror_mode": {
    "name": "ipython",
    "version": 3
   },
   "file_extension": ".py",
   "mimetype": "text/x-python",
   "name": "python",
   "nbconvert_exporter": "python",
   "pygments_lexer": "ipython3",
   "version": "3.13.0"
  }
 },
 "nbformat": 4,
 "nbformat_minor": 5
}
